{
 "cells": [
  {
   "cell_type": "code",
   "execution_count": 2,
   "metadata": {},
   "outputs": [],
   "source": [
    "roman_dict={\"M\":1000,\"CM\":900,\"D\":500, \"CD\":400, \"C\":100, \"XC\":90, \"L\":50,\"XL\":40,\"X\":10,\"IX\":9,\"V\":5,\"IV\":4,\"I\":1}\n",
    "def convert_romans(number):\n",
    "    romans =\"\"\n",
    "    for i, r in roman_dict.items():\n",
    "        while number >= r:\n",
    "            number -= r\n",
    "            romans += i\n",
    "    return romans"
   ]
  },
  {
   "cell_type": "code",
   "execution_count": 3,
   "metadata": {},
   "outputs": [
    {
     "output_type": "execute_result",
     "data": {
      "text/plain": [
       "'MMDCCC'"
      ]
     },
     "metadata": {},
     "execution_count": 3
    }
   ],
   "source": [
    "convert_romans(2800)"
   ]
  },
  {
   "cell_type": "code",
   "execution_count": null,
   "metadata": {},
   "outputs": [],
   "source": []
  }
 ],
 "metadata": {
  "kernelspec": {
   "display_name": "Python 3",
   "language": "python",
   "name": "python3"
  },
  "language_info": {
   "codemirror_mode": {
    "name": "ipython",
    "version": 3
   },
   "file_extension": ".py",
   "mimetype": "text/x-python",
   "name": "python",
   "nbconvert_exporter": "python",
   "pygments_lexer": "ipython3",
   "version": "3.7.6-final"
  }
 },
 "nbformat": 4,
 "nbformat_minor": 4
}